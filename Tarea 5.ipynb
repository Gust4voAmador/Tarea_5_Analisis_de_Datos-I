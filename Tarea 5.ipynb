{
 "cells": [
  {
   "cell_type": "markdown",
   "id": "d74fc57c-f970-4a8f-8688-8008ea4e2632",
   "metadata": {},
   "source": [
    "# Tarea 5"
   ]
  },
  {
   "cell_type": "code",
   "execution_count": 5,
   "id": "ba2cfb31-9566-4b78-8ec6-b1b527a20ff7",
   "metadata": {},
   "outputs": [],
   "source": [
    "# Importrar librerías necesarias\n",
    "import numpy as np\n",
    "import pandas as pd\n",
    "from sklearn.model_selection import train_test_split\n",
    "import matplotlib.pyplot as plt\n",
    "import seaborn as sns\n",
    "from sklearn.model_selection import RandomizedSearchCV\n",
    "from sklearn import tree\n",
    "from sklearn.tree import DecisionTreeClassifier\n",
    "from sklearn.ensemble import RandomForestClassifier\n",
    "from sklearn.pipeline import Pipeline"
   ]
  },
  {
   "cell_type": "code",
   "execution_count": null,
   "id": "ad767ca2-d871-4925-9a9d-d84ecafa6f91",
   "metadata": {},
   "outputs": [],
   "source": [
    "# Importar funciones\n",
    "from Funciones_ejer8 import train_model\n",
    "from Funciones_ejer8 import predict\n",
    "from Funciones_ejer8 import evaluate_model\n",
    "from Funciones_ejer8 import evaluar_metricas"
   ]
  },
  {
   "cell_type": "markdown",
   "id": "16d2eb41-b636-413a-8dce-4a496914cea3",
   "metadata": {},
   "source": [
    "## Ejercicio 8"
   ]
  },
  {
   "cell_type": "code",
   "execution_count": 8,
   "id": "9c98738b-21d6-4812-92cb-c83b6441a85f",
   "metadata": {},
   "outputs": [
    {
     "data": {
      "text/html": [
       "<div>\n",
       "<style scoped>\n",
       "    .dataframe tbody tr th:only-of-type {\n",
       "        vertical-align: middle;\n",
       "    }\n",
       "\n",
       "    .dataframe tbody tr th {\n",
       "        vertical-align: top;\n",
       "    }\n",
       "\n",
       "    .dataframe thead th {\n",
       "        text-align: right;\n",
       "    }\n",
       "</style>\n",
       "<table border=\"1\" class=\"dataframe\">\n",
       "  <thead>\n",
       "    <tr style=\"text-align: right;\">\n",
       "      <th></th>\n",
       "      <th>Year</th>\n",
       "      <th>Age</th>\n",
       "      <th>Games</th>\n",
       "      <th>MP</th>\n",
       "      <th>PTS</th>\n",
       "      <th>FG</th>\n",
       "      <th>FGA</th>\n",
       "      <th>FG%</th>\n",
       "      <th>3P</th>\n",
       "      <th>3PA</th>\n",
       "      <th>...</th>\n",
       "      <th>FTpg</th>\n",
       "      <th>ORBpg</th>\n",
       "      <th>DRBpg</th>\n",
       "      <th>TRBpg</th>\n",
       "      <th>ASTpg</th>\n",
       "      <th>STLpg</th>\n",
       "      <th>BLKpg</th>\n",
       "      <th>TOVpg</th>\n",
       "      <th>PFpg</th>\n",
       "      <th>Target</th>\n",
       "    </tr>\n",
       "  </thead>\n",
       "  <tbody>\n",
       "    <tr>\n",
       "      <th>0</th>\n",
       "      <td>1979</td>\n",
       "      <td>22</td>\n",
       "      <td>67</td>\n",
       "      <td>726</td>\n",
       "      <td>312</td>\n",
       "      <td>122</td>\n",
       "      <td>271</td>\n",
       "      <td>0.450</td>\n",
       "      <td>0</td>\n",
       "      <td>0</td>\n",
       "      <td>...</td>\n",
       "      <td>1.01</td>\n",
       "      <td>1.06</td>\n",
       "      <td>1.88</td>\n",
       "      <td>2.9</td>\n",
       "      <td>0.4</td>\n",
       "      <td>0.31</td>\n",
       "      <td>0.81</td>\n",
       "      <td>1.18</td>\n",
       "      <td>1.73</td>\n",
       "      <td>1</td>\n",
       "    </tr>\n",
       "    <tr>\n",
       "      <th>1</th>\n",
       "      <td>1980</td>\n",
       "      <td>23</td>\n",
       "      <td>16</td>\n",
       "      <td>235</td>\n",
       "      <td>180</td>\n",
       "      <td>72</td>\n",
       "      <td>146</td>\n",
       "      <td>0.493</td>\n",
       "      <td>8</td>\n",
       "      <td>19</td>\n",
       "      <td>...</td>\n",
       "      <td>1.75</td>\n",
       "      <td>0.81</td>\n",
       "      <td>1.00</td>\n",
       "      <td>1.8</td>\n",
       "      <td>1.9</td>\n",
       "      <td>0.88</td>\n",
       "      <td>0.12</td>\n",
       "      <td>1.25</td>\n",
       "      <td>1.62</td>\n",
       "      <td>1</td>\n",
       "    </tr>\n",
       "    <tr>\n",
       "      <th>2</th>\n",
       "      <td>1979</td>\n",
       "      <td>23</td>\n",
       "      <td>82</td>\n",
       "      <td>2955</td>\n",
       "      <td>1745</td>\n",
       "      <td>693</td>\n",
       "      <td>1463</td>\n",
       "      <td>0.474</td>\n",
       "      <td>58</td>\n",
       "      <td>143</td>\n",
       "      <td>...</td>\n",
       "      <td>3.67</td>\n",
       "      <td>2.63</td>\n",
       "      <td>7.76</td>\n",
       "      <td>10.4</td>\n",
       "      <td>4.5</td>\n",
       "      <td>1.74</td>\n",
       "      <td>0.65</td>\n",
       "      <td>3.21</td>\n",
       "      <td>3.40</td>\n",
       "      <td>1</td>\n",
       "    </tr>\n",
       "    <tr>\n",
       "      <th>3</th>\n",
       "      <td>1980</td>\n",
       "      <td>23</td>\n",
       "      <td>13</td>\n",
       "      <td>125</td>\n",
       "      <td>56</td>\n",
       "      <td>24</td>\n",
       "      <td>52</td>\n",
       "      <td>0.462</td>\n",
       "      <td>0</td>\n",
       "      <td>0</td>\n",
       "      <td>...</td>\n",
       "      <td>0.62</td>\n",
       "      <td>1.46</td>\n",
       "      <td>1.54</td>\n",
       "      <td>3.0</td>\n",
       "      <td>0.2</td>\n",
       "      <td>0.31</td>\n",
       "      <td>0.15</td>\n",
       "      <td>0.62</td>\n",
       "      <td>1.92</td>\n",
       "      <td>0</td>\n",
       "    </tr>\n",
       "    <tr>\n",
       "      <th>4</th>\n",
       "      <td>1979</td>\n",
       "      <td>22</td>\n",
       "      <td>82</td>\n",
       "      <td>2027</td>\n",
       "      <td>688</td>\n",
       "      <td>275</td>\n",
       "      <td>609</td>\n",
       "      <td>0.452</td>\n",
       "      <td>2</td>\n",
       "      <td>5</td>\n",
       "      <td>...</td>\n",
       "      <td>1.66</td>\n",
       "      <td>0.84</td>\n",
       "      <td>1.88</td>\n",
       "      <td>2.7</td>\n",
       "      <td>3.1</td>\n",
       "      <td>2.57</td>\n",
       "      <td>0.59</td>\n",
       "      <td>2.02</td>\n",
       "      <td>2.37</td>\n",
       "      <td>1</td>\n",
       "    </tr>\n",
       "  </tbody>\n",
       "</table>\n",
       "<p>5 rows × 36 columns</p>\n",
       "</div>"
      ],
      "text/plain": [
       "   Year  Age  Games    MP   PTS   FG   FGA    FG%  3P  3PA  ...  FTpg  ORBpg  \\\n",
       "0  1979   22     67   726   312  122   271  0.450   0    0  ...  1.01   1.06   \n",
       "1  1980   23     16   235   180   72   146  0.493   8   19  ...  1.75   0.81   \n",
       "2  1979   23     82  2955  1745  693  1463  0.474  58  143  ...  3.67   2.63   \n",
       "3  1980   23     13   125    56   24    52  0.462   0    0  ...  0.62   1.46   \n",
       "4  1979   22     82  2027   688  275   609  0.452   2    5  ...  1.66   0.84   \n",
       "\n",
       "   DRBpg  TRBpg  ASTpg  STLpg  BLKpg  TOVpg  PFpg  Target  \n",
       "0   1.88    2.9    0.4   0.31   0.81   1.18  1.73       1  \n",
       "1   1.00    1.8    1.9   0.88   0.12   1.25  1.62       1  \n",
       "2   7.76   10.4    4.5   1.74   0.65   3.21  3.40       1  \n",
       "3   1.54    3.0    0.2   0.31   0.15   0.62  1.92       0  \n",
       "4   1.88    2.7    3.1   2.57   0.59   2.02  2.37       1  \n",
       "\n",
       "[5 rows x 36 columns]"
      ]
     },
     "execution_count": 8,
     "metadata": {},
     "output_type": "execute_result"
    }
   ],
   "source": [
    "# Importar base de datos \n",
    "novatos = pd.read_csv(\"NovatosNBA.csv\", sep=',')\n",
    "# Eliminar columnas no numéricas o irrelevantes\n",
    "novatos = novatos.drop(columns=['Unnamed: 0', 'Player', 'Team', 'Conf'])\n",
    "novatos.head()"
   ]
  },
  {
   "cell_type": "markdown",
   "id": "6893663a-9249-4e53-961c-941285874c70",
   "metadata": {},
   "source": [
    "### Inciso a)"
   ]
  },
  {
   "cell_type": "code",
   "execution_count": 10,
   "id": "cb456e68-636c-45e9-8a51-d1a077ea8ca4",
   "metadata": {},
   "outputs": [],
   "source": [
    "# Dividir los datos en X y y\n",
    "X = novatos.drop(columns='Target').to_numpy()\n",
    "y = novatos['Target'].to_numpy()\n",
    "\n",
    "# Dividir los datos en train y test (80% entrenamiento, 20% prueba)\n",
    "X_train, X_test, y_train, y_test = train_test_split(\n",
    "    X, y,\n",
    "    test_size=0.20,\n",
    "    random_state=42\n",
    ")"
   ]
  },
  {
   "cell_type": "code",
   "execution_count": 11,
   "id": "ba2239a5-e30f-49ee-bd88-335eaeba5e48",
   "metadata": {},
   "outputs": [
    {
     "name": "stderr",
     "output_type": "stream",
     "text": [
      "C:\\Users\\sofia\\anaconda3\\Lib\\site-packages\\sklearn\\model_selection\\_search.py:317: UserWarning: The total space of parameters 1 is smaller than n_iter=10. Running 1 iterations. For exhaustive searches, use GridSearchCV.\n",
      "  warnings.warn(\n"
     ]
    },
    {
     "name": "stdout",
     "output_type": "stream",
     "text": [
      "Fitting 5 folds for each of 1 candidates, totalling 5 fits\n",
      "Mejores hiperparámetros: {}\n",
      "Mejor puntuación: 0.6950980297235805\n"
     ]
    },
    {
     "data": {
      "text/plain": [
       "{'Accuracy': 0.6942003514938488,\n",
       " 'Precision': 0.6957293950873448,\n",
       " 'Recall': 0.6942003514938488,\n",
       " 'F1 Score': 0.6949305919076987}"
      ]
     },
     "execution_count": 11,
     "metadata": {},
     "output_type": "execute_result"
    }
   ],
   "source": [
    "# Primero, se genera el modelo con árboles de decisión\n",
    "# Entrenar modelo\n",
    "arb_dec = train_model(model=tree.DecisionTreeClassifier(),\n",
    "                      X_train=X_train,\n",
    "                      y_train=y_train,\n",
    "                      param_distributions=dict())\n",
    "\n",
    "# Predecir\n",
    "y_pred_arb = predict(arb_dec, X_test)\n",
    "\n",
    "# Evaluar modelo\n",
    "metricas_arb = evaluate_model(arb_dec, X_test, y_test)\n",
    "metricas_arb"
   ]
  },
  {
   "cell_type": "markdown",
   "id": "423af4e0-c37f-4209-8ddd-c83a66ae98ad",
   "metadata": {},
   "source": [
    "La métrica de Accuracy indica que el modelo acierta en aproximadamente el 70% de los casos. En el caso de Precision, se tiene que cuando predice una clase positiva, tiene 69.6% de aciertos. Además, con Recall se ve que detecta el 69.6% de los casos positivos reales y el F1 Score muestra el promedio balanceado entre Precision y Recall, es decir, 69.6% de calidad global. Puede ser mejor."
   ]
  },
  {
   "cell_type": "code",
   "execution_count": 17,
   "id": "b5b7ac2c-31de-48ea-97c4-2984cd1a39b7",
   "metadata": {},
   "outputs": [
    {
     "name": "stderr",
     "output_type": "stream",
     "text": [
      "C:\\Users\\sofia\\anaconda3\\Lib\\site-packages\\sklearn\\model_selection\\_search.py:317: UserWarning: The total space of parameters 1 is smaller than n_iter=10. Running 1 iterations. For exhaustive searches, use GridSearchCV.\n",
      "  warnings.warn(\n"
     ]
    },
    {
     "name": "stdout",
     "output_type": "stream",
     "text": [
      "Fitting 5 folds for each of 1 candidates, totalling 5 fits\n",
      "Mejores hiperparámetros: {}\n",
      "Mejor puntuación: 0.7597840925594228\n"
     ]
    },
    {
     "data": {
      "text/plain": [
       "{'Accuracy': 0.7908611599297012,\n",
       " 'Precision': 0.7901215485774755,\n",
       " 'Recall': 0.7908611599297012,\n",
       " 'F1 Score': 0.7904682649896957}"
      ]
     },
     "execution_count": 17,
     "metadata": {},
     "output_type": "execute_result"
    }
   ],
   "source": [
    "# Ahora, se genera el modelo con bosques aleatorios\n",
    "# Entrenar modelo\n",
    "bos_ale = train_model(model=RandomForestClassifier(random_state=42),\n",
    "                      X_train=X_train,\n",
    "                      y_train=y_train,\n",
    "                      param_distributions=dict())\n",
    "\n",
    "# Predecir\n",
    "y_pred_bos = predict(bos_ale, X_test)\n",
    "\n",
    "# Evaluar modelo\n",
    "metricas_bos = evaluate_model(bos_ale, X_test, y_test)\n",
    "metricas_bos"
   ]
  },
  {
   "cell_type": "markdown",
   "id": "4cc5b103-7848-4b58-b7cb-6548d8729ec3",
   "metadata": {},
   "source": [
    "Por otro lado, para el modelo de bosques aleatorios, la métrica de Accuracy indica que el modelo acierta en aproximadamente el 79% de los casos. En el caso de Precision, se tiene que cuando predice una clase positiva, tiene 79% de aciertos. Además, con Recall se ve que detecta el 79% de los casos positivos reales y el F1 Score muestra el promedio balanceado entre Precision y Recall, es decir, 79% de calidad global. Parecer ejercer un mejor trabajo que el modelo de árboles de decisión."
   ]
  },
  {
   "cell_type": "markdown",
   "id": "ebf718ac-2ee6-4c55-99fe-347a2934731b",
   "metadata": {},
   "source": [
    "### Inciso b)"
   ]
  },
  {
   "cell_type": "code",
   "execution_count": null,
   "id": "4271fd53-3f34-49c2-8b5e-7bcd7ef224b6",
   "metadata": {},
   "outputs": [
    {
     "name": "stderr",
     "output_type": "stream",
     "text": [
      "C:\\Users\\sofia\\anaconda3\\Lib\\site-packages\\sklearn\\discriminant_analysis.py:1024: LinAlgWarning: The covariance matrix of class 0 is not full rank. Increasing the value of parameter `reg_param` might help reducing the collinearity.\n",
      "  warnings.warn(\n",
      "C:\\Users\\sofia\\anaconda3\\Lib\\site-packages\\sklearn\\discriminant_analysis.py:1024: LinAlgWarning: The covariance matrix of class 1 is not full rank. Increasing the value of parameter `reg_param` might help reducing the collinearity.\n",
      "  warnings.warn(\n"
     ]
    },
    {
     "data": {
      "text/html": [
       "<div>\n",
       "<style scoped>\n",
       "    .dataframe tbody tr th:only-of-type {\n",
       "        vertical-align: middle;\n",
       "    }\n",
       "\n",
       "    .dataframe tbody tr th {\n",
       "        vertical-align: top;\n",
       "    }\n",
       "\n",
       "    .dataframe thead th {\n",
       "        text-align: right;\n",
       "    }\n",
       "</style>\n",
       "<table border=\"1\" class=\"dataframe\">\n",
       "  <thead>\n",
       "    <tr style=\"text-align: right;\">\n",
       "      <th></th>\n",
       "      <th>Modelo</th>\n",
       "      <th>Precisión global</th>\n",
       "      <th>Error global</th>\n",
       "      <th>PP</th>\n",
       "      <th>PN</th>\n",
       "    </tr>\n",
       "  </thead>\n",
       "  <tbody>\n",
       "    <tr>\n",
       "      <th>0</th>\n",
       "      <td>Árboles de decisión</td>\n",
       "      <td>0.6957</td>\n",
       "      <td>0.3043</td>\n",
       "      <td>0.7703</td>\n",
       "      <td>0.5528</td>\n",
       "    </tr>\n",
       "    <tr>\n",
       "      <th>1</th>\n",
       "      <td>Bosques aleatorios</td>\n",
       "      <td>0.7901</td>\n",
       "      <td>0.2099</td>\n",
       "      <td>0.8382</td>\n",
       "      <td>0.6979</td>\n",
       "    </tr>\n",
       "    <tr>\n",
       "      <th>2</th>\n",
       "      <td>LDA</td>\n",
       "      <td>0.7836</td>\n",
       "      <td>0.2164</td>\n",
       "      <td>0.8219</td>\n",
       "      <td>0.7102</td>\n",
       "    </tr>\n",
       "    <tr>\n",
       "      <th>3</th>\n",
       "      <td>QDA</td>\n",
       "      <td>0.7728</td>\n",
       "      <td>0.2272</td>\n",
       "      <td>0.8949</td>\n",
       "      <td>0.5385</td>\n",
       "    </tr>\n",
       "    <tr>\n",
       "      <th>4</th>\n",
       "      <td>Naive Bayes</td>\n",
       "      <td>0.7740</td>\n",
       "      <td>0.2260</td>\n",
       "      <td>0.9091</td>\n",
       "      <td>0.5148</td>\n",
       "    </tr>\n",
       "  </tbody>\n",
       "</table>\n",
       "</div>"
      ],
      "text/plain": [
       "                Modelo  Precisión global  Error global      PP      PN\n",
       "0  Árboles de decisión            0.6957        0.3043  0.7703  0.5528\n",
       "1   Bosques aleatorios            0.7901        0.2099  0.8382  0.6979\n",
       "2                  LDA            0.7836        0.2164  0.8219  0.7102\n",
       "3                  QDA            0.7728        0.2272  0.8949  0.5385\n",
       "4          Naive Bayes            0.7740        0.2260  0.9091  0.5148"
      ]
     },
     "execution_count": 18,
     "metadata": {},
     "output_type": "execute_result"
    }
   ],
   "source": [
    "# DataFrame comparando modelos actuales con los de tareas anteriores, usando metricas\n",
    "resultados = []\n",
    "\n",
    "# Árboles de decisión\n",
    "resultados.append(evaluar_metricas(\"Árboles de decisión\", y_test, y_pred_arb))\n",
    "\n",
    "# Bosques aleatorios\n",
    "resultados.append(evaluar_metricas(\"Bosques aleatorios\", y_test, y_pred_bos))\n",
    "\n",
    "# Se va a comparar con LDA, QDA y Naive Bayes. Por lo tanto, hay que calcular las métricas\n",
    "from Funciones_ejer8 import correr_ejer_4\n",
    "y_test, lda_pred, qda_pred, naive_pred = correr_ejer_4()\n",
    "\n",
    "# Obtener predicciones\n",
    "# Evaluar\n",
    "resultados.append(evaluar_metricas(\"LDA\", y_test, lda_pred))\n",
    "resultados.append(evaluar_metricas(\"QDA\", y_test, qda_pred))\n",
    "resultados.append(evaluar_metricas(\"Naive Bayes\", y_test, naive_pred))\n",
    "\n",
    "df_resultados = pd.DataFrame(resultados)\n",
    "df_resultados"
   ]
  },
  {
   "cell_type": "markdown",
   "id": "6e6410ac-5a9d-4bb3-a7ec-63a2a7e381a3",
   "metadata": {},
   "source": [
    "QDA y Naive Bayes tienen los PP más altos, sin embargo, también poseen el PN más bajo. Por otro lado, Bosques Aleatorios cuenta con la precisión global más alta y, por tanto, el error global más bajo. Además, a pesar de no tener los mejores PP o PN, ambos son relativamente altos. Por tanto, se concluye que el modelo de Bosques Aleatorios es el mejor."
   ]
  },
  {
   "cell_type": "markdown",
   "id": "415adfd4-0f80-4684-9988-aa20a270b653",
   "metadata": {},
   "source": [
    "## Ejercicio 9"
   ]
  },
  {
   "cell_type": "code",
   "execution_count": null,
   "id": "36ccaf55-2e6c-4fa5-8c08-3ac621be9560",
   "metadata": {},
   "outputs": [],
   "source": []
  },
  {
   "cell_type": "code",
   "execution_count": null,
   "id": "0eef17e8-7fc7-4ab4-96c4-f88420632514",
   "metadata": {},
   "outputs": [],
   "source": []
  }
 ],
 "metadata": {
  "kernelspec": {
   "display_name": "Python 3 (ipykernel)",
   "language": "python",
   "name": "python3"
  },
  "language_info": {
   "codemirror_mode": {
    "name": "ipython",
    "version": 3
   },
   "file_extension": ".py",
   "mimetype": "text/x-python",
   "name": "python",
   "nbconvert_exporter": "python",
   "pygments_lexer": "ipython3",
   "version": "3.12.4"
  }
 },
 "nbformat": 4,
 "nbformat_minor": 5
}
