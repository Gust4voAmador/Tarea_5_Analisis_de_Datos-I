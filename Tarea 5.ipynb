{
 "cells": [
  {
   "cell_type": "markdown",
   "id": "d74fc57c-f970-4a8f-8688-8008ea4e2632",
   "metadata": {},
   "source": [
    "# Tarea 5"
   ]
  },
  {
   "cell_type": "code",
   "execution_count": null,
   "id": "ba2cfb31-9566-4b78-8ec6-b1b527a20ff7",
   "metadata": {},
   "outputs": [],
   "source": [
    "# Importrar librerías necesarias\n",
    "import numpy as np\n",
    "import pandas as pd"
   ]
  },
  {
   "cell_type": "markdown",
   "id": "415adfd4-0f80-4684-9988-aa20a270b653",
   "metadata": {},
   "source": [
    "## Ejercicio 9"
   ]
  },
  {
   "cell_type": "code",
   "execution_count": null,
   "id": "d3821960-9340-4660-92d1-461be8d88e74",
   "metadata": {},
   "outputs": [],
   "source": []
  },
  {
   "cell_type": "code",
   "execution_count": null,
   "id": "39f5e871-4d55-4797-988c-1973a3ad2178",
   "metadata": {},
   "outputs": [],
   "source": []
  },
  {
   "cell_type": "code",
   "execution_count": null,
   "id": "2990b418-583c-42a9-bf29-daa206f61a01",
   "metadata": {},
   "outputs": [],
   "source": []
  },
  {
   "cell_type": "code",
   "execution_count": null,
   "id": "254496ed-b0a2-4931-8806-92df3b0bed08",
   "metadata": {},
   "outputs": [],
   "source": []
  },
  {
   "cell_type": "markdown",
   "id": "16d2eb41-b636-413a-8dce-4a496914cea3",
   "metadata": {},
   "source": [
    "## Ejercicio 8"
   ]
  },
  {
   "cell_type": "code",
   "execution_count": null,
   "id": "9c98738b-21d6-4812-92cb-c83b6441a85f",
   "metadata": {},
   "outputs": [],
   "source": [
    "# Importar base de datos \n",
    "novatos = pd.read_csv(\"NovatosNBA.csv\", header=None, sep=';')"
   ]
  },
  {
   "cell_type": "markdown",
   "id": "6893663a-9249-4e53-961c-941285874c70",
   "metadata": {},
   "source": [
    "### Inciso a)"
   ]
  },
  {
   "cell_type": "code",
   "execution_count": null,
   "id": "cb456e68-636c-45e9-8a51-d1a077ea8ca4",
   "metadata": {},
   "outputs": [],
   "source": []
  },
  {
   "cell_type": "code",
   "execution_count": null,
   "id": "948c31f7-7f26-48ef-bf81-5a390fbd843d",
   "metadata": {},
   "outputs": [],
   "source": []
  },
  {
   "cell_type": "markdown",
   "id": "ebf718ac-2ee6-4c55-99fe-347a2934731b",
   "metadata": {},
   "source": [
    "### Inciso b)"
   ]
  },
  {
   "cell_type": "code",
   "execution_count": null,
   "id": "4271fd53-3f34-49c2-8b5e-7bcd7ef224b6",
   "metadata": {},
   "outputs": [],
   "source": []
  },
  {
   "cell_type": "code",
   "execution_count": null,
   "id": "b4a9899f-6426-4dce-97d3-afae79b7f4df",
   "metadata": {},
   "outputs": [],
   "source": []
  },
  {
   "cell_type": "code",
   "execution_count": null,
   "id": "36ccaf55-2e6c-4fa5-8c08-3ac621be9560",
   "metadata": {},
   "outputs": [],
   "source": []
  },
  {
   "cell_type": "code",
   "execution_count": null,
   "id": "0eef17e8-7fc7-4ab4-96c4-f88420632514",
   "metadata": {},
   "outputs": [],
   "source": []
  }
 ],
 "metadata": {
  "kernelspec": {
   "display_name": "Python 3 (ipykernel)",
   "language": "python",
   "name": "python3"
  },
  "language_info": {
   "codemirror_mode": {
    "name": "ipython",
    "version": 3
   },
   "file_extension": ".py",
   "mimetype": "text/x-python",
   "name": "python",
   "nbconvert_exporter": "python",
   "pygments_lexer": "ipython3",
   "version": "3.12.4"
  }
 },
 "nbformat": 4,
 "nbformat_minor": 5
}
